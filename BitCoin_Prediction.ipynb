{
 "cells": [
  {
   "cell_type": "markdown",
   "metadata": {},
   "source": [
    "### 비트코인 가격 예측"
   ]
  },
  {
   "cell_type": "markdown",
   "metadata": {},
   "source": [
    "21600057 김동준, 21800663 정수현  \n"
   ]
  },
  {
   "cell_type": "code",
   "execution_count": 1,
   "metadata": {},
   "outputs": [],
   "source": [
    "import pandas as pd\n",
    "import numpy as np\n",
    "import matplotlib.pyplot as plt\n",
    "from keras.models import Sequential\n",
    "from keras.layers import LSTM, Dropout, Dense, Activation\n",
    "from keras.callbacks import TensorBoard, ModelCheckpoint, ReduceLROnPlateau\n",
    "import datetime"
   ]
  },
  {
   "cell_type": "markdown",
   "metadata": {},
   "source": [
    "데이터 출처 링크 : https://finance.yahoo.com/quote/BTC-USD/history?p=BTC-USD"
   ]
  },
  {
   "cell_type": "code",
   "execution_count": 2,
   "metadata": {},
   "outputs": [
    {
     "data": {
      "text/html": [
       "<div>\n",
       "<style scoped>\n",
       "    .dataframe tbody tr th:only-of-type {\n",
       "        vertical-align: middle;\n",
       "    }\n",
       "\n",
       "    .dataframe tbody tr th {\n",
       "        vertical-align: top;\n",
       "    }\n",
       "\n",
       "    .dataframe thead th {\n",
       "        text-align: right;\n",
       "    }\n",
       "</style>\n",
       "<table border=\"1\" class=\"dataframe\">\n",
       "  <thead>\n",
       "    <tr style=\"text-align: right;\">\n",
       "      <th></th>\n",
       "      <th>Date</th>\n",
       "      <th>Open</th>\n",
       "      <th>High</th>\n",
       "      <th>Low</th>\n",
       "      <th>Close</th>\n",
       "      <th>Adj Close</th>\n",
       "      <th>Volume</th>\n",
       "    </tr>\n",
       "  </thead>\n",
       "  <tbody>\n",
       "    <tr>\n",
       "      <th>0</th>\n",
       "      <td>2020-05-28</td>\n",
       "      <td>9184.945313</td>\n",
       "      <td>9546.319336</td>\n",
       "      <td>9148.457031</td>\n",
       "      <td>9525.750977</td>\n",
       "      <td>9525.750977</td>\n",
       "      <td>3.436707e+10</td>\n",
       "    </tr>\n",
       "    <tr>\n",
       "      <th>1</th>\n",
       "      <td>2020-05-29</td>\n",
       "      <td>9528.355469</td>\n",
       "      <td>9573.666992</td>\n",
       "      <td>9379.338867</td>\n",
       "      <td>9439.124023</td>\n",
       "      <td>9439.124023</td>\n",
       "      <td>3.289664e+10</td>\n",
       "    </tr>\n",
       "    <tr>\n",
       "      <th>2</th>\n",
       "      <td>2020-05-30</td>\n",
       "      <td>9438.914063</td>\n",
       "      <td>9704.030273</td>\n",
       "      <td>9366.729492</td>\n",
       "      <td>9700.414063</td>\n",
       "      <td>9700.414063</td>\n",
       "      <td>3.272298e+10</td>\n",
       "    </tr>\n",
       "    <tr>\n",
       "      <th>3</th>\n",
       "      <td>2020-05-31</td>\n",
       "      <td>9700.105469</td>\n",
       "      <td>9700.343750</td>\n",
       "      <td>9432.296875</td>\n",
       "      <td>9461.058594</td>\n",
       "      <td>9461.058594</td>\n",
       "      <td>2.777329e+10</td>\n",
       "    </tr>\n",
       "    <tr>\n",
       "      <th>4</th>\n",
       "      <td>2020-06-01</td>\n",
       "      <td>9463.605469</td>\n",
       "      <td>10199.565430</td>\n",
       "      <td>9450.899414</td>\n",
       "      <td>10167.268560</td>\n",
       "      <td>10167.268560</td>\n",
       "      <td>3.519890e+10</td>\n",
       "    </tr>\n",
       "  </tbody>\n",
       "</table>\n",
       "</div>"
      ],
      "text/plain": [
       "         Date         Open          High          Low         Close  \\\n",
       "0  2020-05-28  9184.945313   9546.319336  9148.457031   9525.750977   \n",
       "1  2020-05-29  9528.355469   9573.666992  9379.338867   9439.124023   \n",
       "2  2020-05-30  9438.914063   9704.030273  9366.729492   9700.414063   \n",
       "3  2020-05-31  9700.105469   9700.343750  9432.296875   9461.058594   \n",
       "4  2020-06-01  9463.605469  10199.565430  9450.899414  10167.268560   \n",
       "\n",
       "      Adj Close        Volume  \n",
       "0   9525.750977  3.436707e+10  \n",
       "1   9439.124023  3.289664e+10  \n",
       "2   9700.414063  3.272298e+10  \n",
       "3   9461.058594  2.777329e+10  \n",
       "4  10167.268560  3.519890e+10  "
      ]
     },
     "execution_count": 2,
     "metadata": {},
     "output_type": "execute_result"
    }
   ],
   "source": [
    "# Load Data \n",
    "\n",
    "data = pd.read_csv('BTC-USD.csv') # 비트코인 가격에 대한 csv 파일을 읽음\n",
    "data.head() # 데이터를 상위 5줄만 보여줌"
   ]
  },
  {
   "cell_type": "code",
   "execution_count": 4,
   "metadata": {},
   "outputs": [
    {
     "name": "stdout",
     "output_type": "stream",
     "text": [
      "[ 9347.3881835  9476.5029295  9535.3798825  9566.3203125  9825.232422\n",
      "  9821.4560545  9577.3530275  9706.428711   9766.227051   9682.2280275\n",
      "  9613.324219   9729.0961915  9750.544434   9818.59375    9600.683594\n",
      "  9413.1586915  9444.61084    9414.932129   9247.5180665  9489.9379885\n",
      "  9433.881348   9405.5888675  9357.5859375  9321.1757815  9350.769043\n",
      "  9475.972656   9608.894043   9479.300293   9217.742676   9206.1274415\n",
      "  9103.013672   9086.536133   9139.7246095  9151.3369145  9207.2451175\n",
      "  9155.792969   9130.5698245  9118.4628905  9069.5996095  9217.069336\n",
      "  9281.216309   9349.917969   9333.1889645  9202.7368165  9246.5087895\n",
      "  9258.43457    9265.349121   9227.751465   9223.6293945  9151.629883\n",
      "  9135.728027   9165.9038085  9149.5156255  9175.890137   9278.3261715\n",
      "  9425.0859375  9546.625488   9552.395508   9617.3842775  9838.327638\n",
      " 10601.0957035 10918.479495  11080.26953   11032.405765  11201.458985\n",
      " 11517.229005  11526.137205  11232.74707   11239.763675  11472.451175\n",
      " 11750.524905  11653.31592   11679.248045  11677.42041   11853.698735\n",
      " 11564.20996   11499.000975  11506.634275  11918.22461   11865.9502\n",
      " 11836.044925  12082.876465  12145.11621   11858.12842   11805.237305\n",
      " 11732.11963   11569.106445  11636.675295  11715.44092   11484.0752\n",
      " 11413.522945  11378.36377   11431.01904   11525.9668    11603.823245\n",
      " 11683.597655  11834.104985  11627.808595  10812.74365   10435.930175\n",
      " 10264.1235355 10205.406735  10157.823242  10179.942871  10183.896975\n",
      " 10371.023925  10287.87988   10435.612305  10400.77246   10533.009765\n",
      " 10797.5459    10902.504395  10906.024415  10932.282715  11021.855465\n",
      " 10955.17383   10684.282715  10475.401855  10411.811035  10490.5\n",
      " 10675.79834   10730.291015  10724.095215  10832.899905  10762.14209\n",
      " 10773.09961   10704.69824   10551.5625    10571.03516   10616.066895\n",
      " 10725.22217   10684.326665  10639.616215  10754.811525  11249.575685\n",
      " 11358.720705  11423.9043    11436.75879   11381.53711   11335.80371\n",
      " 11415.468755  11603.691405  11840.69922   12542.74756   12939.34375\n",
      " 12884.304685  13015.40674   13119.622555  13023.84033   13410.25342\n",
      " 13384.973145  13296.05371   13393.85742   13742.87207   13745.205565\n",
      " 13525.7417    13655.21143   13899.61914   14904.246585  15565.13867\n",
      " 15080.149415  15190.71533   15325.33301   15287.64453   15603.13379\n",
      " 15919.887695  16227.665035  16033.500975  15958.322265  16348.44385\n",
      " 17173.73242   17873.427735  17751.050785  18269.51074   18690.490235\n",
      " 18180.17676   18356.11133   18738.463865  18986.05566   17608.66016\n",
      " 16985.723635  17382.295895  17921.37305   18963.79297   19083.948245\n",
      " 18828.024415  19245.988285  19104.29883   18875.32129   19144.197265\n",
      " 19171.485355  18776.711915  18280.919925  18255.18164   17943.993165\n",
      " 18482.7959    19057.933595  19158.904295  19302.424805  20378.612305\n",
      " 22438.66797   22819.20703   23456.164065  23678.68555   23109.674805\n",
      " 23110.253905  23413.568355  23272.967775  24086.887695  25620.37988\n",
      " 27105.804685  26798.37598   26679.009765  28148.915035  28723.43457\n",
      " 29202.106445  31123.149415  33330.4375    31081.487305  32329.38867\n",
      " 35196.86719   38335.7793    39392.6875    40208.61328   38702.41016\n",
      " 34448.06543   34633.25195   35092.314455  38417.484375  37118.65039\n",
      " 36748.96094   35395.835935  36091.564455  36912.84766   34974.402345\n",
      " 32901.714845  31382.612305  32427.06836   32025.34668   33445.26465\n",
      " 31912.408205  30965.583985  30957.253905  35235.538085  33887.447265\n",
      " 33279.253905  33511.22168   34693.05078   36462.08594   37454.83789\n",
      " 37442.333985  39492.4668    38533.99414   42140.126955  46585.3418\n",
      " 45513.359375  46325.615235  47585.35547   47220.01367   48301.07422\n",
      " 47611.523435  48771.203125  50803.146485  51744.93555   53525.46484\n",
      " 56065.892575  57001.589845  53250.47852   49747.759765  49251.81836\n",
      " 49521.410155  46412.814455  46761.148435  44979.02344   47449.55469\n",
      " 48678.177735  50404.728515  49696.009765  47969.47266   48202.373045\n",
      " 50151.52344   50910.0625    53402.97461   55274.57227   56287.828125\n",
      " 56686.634765  58950.91797   60450.11719   57967.078125  55194.103515\n",
      " 56749.22266   57184.914065  58071.039065  59122.29102   57386.757815\n",
      " 56379.81836   54728.06836   54888.35742   52124.478515  53358.583985\n",
      " 55405.5625    55840.71289   56740.71875   58349.38672   58828.222655\n",
      " 59045.673825  59568.234375  58857.08008   58041.210935  58793.06055\n",
      " 58563.19336   57167.583985  57108.91211   58372.45508   59657.685545\n",
      " 60040.175785  60421.45508   61806.121095  63208.94727   63015.31836\n",
      " 61908.626955  61466.76367   56943.496095  55944.32422   55255.09766\n",
      " 55226.720705  52997.021485  49917.728515  49986.42383   48832.751955\n",
      " 51570.400395  54368.07617   55057.5625    53766.935545  55515.160155\n",
      " 57750.30664   57022.25      57782.08984   55202.802735  55440.208985\n",
      " 56872.91211   56964.240235  58219.91211   57846.44336   56795.40625\n",
      " 55740.597655  53544.94922   49155.43164   50153.34766   48651.902345\n",
      " 46841.697265  44415.423825  44090.14453   37113.80664   38756.800785\n",
      " 37894.312505  37107.36914   34758.279295  37193.11133   38178.890625\n",
      " 39343.957035  38292.294925 ]\n",
      "362\n"
     ]
    }
   ],
   "source": [
    "high_prices = data['High'].values # hgih_prices에 대한 값을 ndarray로 저장 \n",
    "low_prices = data['Low'].values # low_prices에 대한 값을 ndarray로 저장\n",
    "mid_prices = (high_prices + low_prices) / 2 # 평균값에 대한 값을 ndarray로 저장\n",
    "print(mid_prices)\n",
    "print(len(mid_prices))"
   ]
  },
  {
   "cell_type": "code",
   "execution_count": 10,
   "metadata": {},
   "outputs": [
    {
     "name": "stdout",
     "output_type": "stream",
     "text": [
      "311\n",
      "51\n",
      "[9347.3881835 9476.5029295 9535.3798825 9566.3203125 9825.232422\n",
      " 9821.4560545 9577.3530275 9706.428711  9766.227051  9682.2280275\n",
      " 9613.324219  9729.0961915 9750.544434  9818.59375   9600.683594\n",
      " 9413.1586915 9444.61084   9414.932129  9247.5180665 9489.9379885\n",
      " 9433.881348  9405.5888675 9357.5859375 9321.1757815 9350.769043\n",
      " 9475.972656  9608.894043  9479.300293  9217.742676  9206.1274415\n",
      " 9103.013672  9086.536133  9139.7246095 9151.3369145 9207.2451175\n",
      " 9155.792969  9130.5698245 9118.4628905 9069.5996095 9217.069336\n",
      " 9281.216309  9349.917969  9333.1889645 9202.7368165 9246.5087895\n",
      " 9258.43457   9265.349121  9227.751465  9223.6293945 9151.629883\n",
      " 9135.728027 ]\n"
     ]
    }
   ],
   "source": [
    "seq_len = 50\n",
    "sequence_length = seq_len + 1\n",
    "\n",
    "result = []\n",
    "for index in range(len(mid_prices) - sequence_length):\n",
    "    result.append(mid_prices[index: index + sequence_length]) # result의 인덱스마다 51개의 평균값을 저장.\n",
    "print(len(result))\n",
    "print(len(result[0]))\n",
    "print(result[0])\n"
   ]
  },
  {
   "cell_type": "code",
   "execution_count": 11,
   "metadata": {},
   "outputs": [
    {
     "name": "stdout",
     "output_type": "stream",
     "text": [
      "(311, 51)\n",
      "(280, 51)\n",
      "(280, 50)\n",
      "(280, 50, 1)\n",
      "(280,)\n",
      "(31, 50)\n"
     ]
    },
    {
     "data": {
      "text/plain": [
       "((280, 50, 1), (31, 50, 1))"
      ]
     },
     "execution_count": 11,
     "metadata": {},
     "output_type": "execute_result"
    }
   ],
   "source": [
    "def normalize_windows(data):\n",
    "    normalized_data = []\n",
    "    for window in data:\n",
    "        normalized_window = [((float(p) / float(window[0])) - 1) for p in window]\n",
    "        normalized_data.append(normalized_window)\n",
    "    return np.array(normalized_data)\n",
    "\n",
    "result = normalize_windows(result) # 311개의 row\n",
    "print(result.shape)\n",
    "\n",
    "# split train and test data\n",
    "row = int(round(result.shape[0] * 0.9)) # 311 * 0.9  -> 311개의 data중 90%의 자료를 row 변수에 넣음\n",
    "train = result[:row, :] # 훈련용 자료\n",
    "print(train.shape)\n",
    "np.random.shuffle(train) # 훈련용 자료를 섞어줌\n",
    "\n",
    "x_train = train[:, :-1]\n",
    "print(x_train.shape)\n",
    "x_train = np.reshape(x_train, (x_train.shape[0], x_train.shape[1], 1)) # 3D 로 변환\n",
    "print(x_train.shape)\n",
    "y_train = train[:, -1]\n",
    "print(y_train.shape)\n",
    "\n",
    "x_test = result[row:, :-1]\n",
    "print(x_test.shape)\n",
    "x_test = np.reshape(x_test, (x_test.shape[0], x_test.shape[1], 1))\n",
    "y_test = result[row:, -1]\n",
    "\n",
    "x_train.shape, x_test.shape"
   ]
  },
  {
   "cell_type": "code",
   "execution_count": 13,
   "metadata": {},
   "outputs": [
    {
     "name": "stdout",
     "output_type": "stream",
     "text": [
      "Model: \"sequential\"\n",
      "_________________________________________________________________\n",
      "Layer (type)                 Output Shape              Param #   \n",
      "=================================================================\n",
      "lstm (LSTM)                  (None, 50, 50)            10400     \n",
      "_________________________________________________________________\n",
      "lstm_1 (LSTM)                (None, 64)                29440     \n",
      "_________________________________________________________________\n",
      "dense (Dense)                (None, 1)                 65        \n",
      "=================================================================\n",
      "Total params: 39,905\n",
      "Trainable params: 39,905\n",
      "Non-trainable params: 0\n",
      "_________________________________________________________________\n"
     ]
    }
   ],
   "source": [
    "model = Sequential() # 순차적으로 레이어 층을 더해주는 모델(순차모델)\n",
    "\n",
    "model.add(LSTM(50, return_sequences=True, input_shape=(50, 1))) # 은닉층 쌓음 50줄의 평균으로 다음 값을 예측함\n",
    "# LSTM의 중간 스텝의 출력을 모두 사용하라는 의미\n",
    "\n",
    "model.add(LSTM(64, return_sequences=False)) # 은닉층 쌓음\n",
    "\n",
    "model.add(Dense(1, activation='linear')) # 출력층 쌓음\n",
    "\n",
    "model.compile(loss='mse', optimizer='rmsprop') # 만들어진 모델을 컴파일함. 손실함수=mean squared error(평균 제곱 오차)\n",
    "\n",
    "model.summary() # 만들어진 모델의 형태 확인"
   ]
  },
  {
   "cell_type": "code",
   "execution_count": 14,
   "metadata": {},
   "outputs": [
    {
     "name": "stdout",
     "output_type": "stream",
     "text": [
      "Epoch 1/20\n",
      "28/28 [==============================] - 3s 39ms/step - loss: 0.0926 - val_loss: 0.0379\n",
      "Epoch 2/20\n",
      "28/28 [==============================] - 0s 17ms/step - loss: 0.0234 - val_loss: 0.0203\n",
      "Epoch 3/20\n",
      "28/28 [==============================] - 0s 17ms/step - loss: 0.0150 - val_loss: 0.0148\n",
      "Epoch 4/20\n",
      "28/28 [==============================] - 0s 17ms/step - loss: 0.0138 - val_loss: 0.0118\n",
      "Epoch 5/20\n",
      "28/28 [==============================] - 0s 17ms/step - loss: 0.0140 - val_loss: 0.0090\n",
      "Epoch 6/20\n",
      "28/28 [==============================] - 0s 17ms/step - loss: 0.0136 - val_loss: 0.0091\n",
      "Epoch 7/20\n",
      "28/28 [==============================] - 0s 17ms/step - loss: 0.0091 - val_loss: 0.0088\n",
      "Epoch 8/20\n",
      "28/28 [==============================] - 0s 17ms/step - loss: 0.0095 - val_loss: 0.0081\n",
      "Epoch 9/20\n",
      "28/28 [==============================] - 0s 17ms/step - loss: 0.0075 - val_loss: 0.0077\n",
      "Epoch 10/20\n",
      "28/28 [==============================] - 0s 17ms/step - loss: 0.0102 - val_loss: 0.0071\n",
      "Epoch 11/20\n",
      "28/28 [==============================] - 0s 17ms/step - loss: 0.0069 - val_loss: 0.0058\n",
      "Epoch 12/20\n",
      "28/28 [==============================] - 0s 17ms/step - loss: 0.0078 - val_loss: 0.0061\n",
      "Epoch 13/20\n",
      "28/28 [==============================] - 0s 17ms/step - loss: 0.0062 - val_loss: 0.0051\n",
      "Epoch 14/20\n",
      "28/28 [==============================] - 0s 17ms/step - loss: 0.0070 - val_loss: 0.0073\n",
      "Epoch 15/20\n",
      "28/28 [==============================] - 1s 18ms/step - loss: 0.0087 - val_loss: 0.0043\n",
      "Epoch 16/20\n",
      "28/28 [==============================] - 0s 18ms/step - loss: 0.0066 - val_loss: 0.0036\n",
      "Epoch 17/20\n",
      "28/28 [==============================] - 0s 17ms/step - loss: 0.0064 - val_loss: 0.0057\n",
      "Epoch 18/20\n",
      "28/28 [==============================] - 0s 18ms/step - loss: 0.0062 - val_loss: 0.0049\n",
      "Epoch 19/20\n",
      "28/28 [==============================] - 0s 17ms/step - loss: 0.0036 - val_loss: 0.0044\n",
      "Epoch 20/20\n",
      "28/28 [==============================] - 0s 17ms/step - loss: 0.0042 - val_loss: 0.0032\n"
     ]
    },
    {
     "data": {
      "text/plain": [
       "<tensorflow.python.keras.callbacks.History at 0x7f97d5f16400>"
      ]
     },
     "execution_count": 14,
     "metadata": {},
     "output_type": "execute_result"
    }
   ],
   "source": [
    "model.fit(x_train, y_train,\n",
    "    validation_data=(x_test, y_test), # 검증데이터를 x_test y_test로 사용\n",
    "    batch_size=10,\n",
    "    epochs=20)"
   ]
  },
  {
   "cell_type": "code",
   "execution_count": 15,
   "metadata": {
    "scrolled": false
   },
   "outputs": [
    {
     "name": "stdout",
     "output_type": "stream",
     "text": [
      "(31, 1)\n"
     ]
    },
    {
     "data": {
      "image/png": "[encoded data removed]",
      "text/plain": [
       "<Figure size 1440x720 with 1 Axes>"
      ]
     },
     "metadata": {},
     "output_type": "display_data"
    }
   ],
   "source": [
    "# prediction\n",
    "\n",
    "pred = model.predict(x_test) # 훈련된 모델을 사용하여 이미지에 대한 예측을 만듦\n",
    "print(pred.shape)\n",
    "\n",
    "fig = plt.figure(facecolor='white', figsize=(20, 10))\n",
    "ax = fig.add_subplot(111)\n",
    "ax.plot(y_test, label='True')\n",
    "ax.plot(pred, label='Prediction')\n",
    "ax.legend()\n",
    "plt.show()"
   ]
  }
 ],
 "metadata": {
  "kernelspec": {
   "display_name": "Python 3",
   "language": "python",
   "name": "python3"
  },
  "language_info": {
   "codemirror_mode": {
    "name": "ipython",
    "version": 3
   },
   "file_extension": ".py",
   "mimetype": "text/x-python",
   "name": "python",
   "nbconvert_exporter": "python",
   "pygments_lexer": "ipython3",
   "version": "3.8.5"
  }
 },
 "nbformat": 4,
 "nbformat_minor": 4
}
